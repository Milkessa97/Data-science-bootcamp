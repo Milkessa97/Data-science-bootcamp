{
  "nbformat": 4,
  "nbformat_minor": 0,
  "metadata": {
    "colab": {
      "provenance": [],
      "authorship_tag": "ABX9TyM1nWQB5WkijUsTCwbMMt10",
      "include_colab_link": true
    },
    "kernelspec": {
      "name": "python3",
      "display_name": "Python 3"
    },
    "language_info": {
      "name": "python"
    }
  },
  "cells": [
    {
      "cell_type": "markdown",
      "metadata": {
        "id": "view-in-github",
        "colab_type": "text"
      },
      "source": [
        "<a href=\"https://colab.research.google.com/github/Milkessa97/Data-science-bootcamp/blob/Q/Sec1No2.ipynb\" target=\"_parent\"><img src=\"https://colab.research.google.com/assets/colab-badge.svg\" alt=\"Open In Colab\"/></a>"
      ]
    },
    {
      "cell_type": "code",
      "execution_count": 2,
      "metadata": {
        "colab": {
          "base_uri": "https://localhost:8080/"
        },
        "id": "qJP4hmx0Efco",
        "outputId": "52aa4ecd-5547-4fba-ddc1-4eea96a7ec5f"
      },
      "outputs": [
        {
          "output_type": "execute_result",
          "data": {
            "text/plain": [
              "[100, 400, 900]"
            ]
          },
          "metadata": {},
          "execution_count": 2
        }
      ],
      "source": [
        "lst=[10, 15, 20, 25, 30]\n",
        "def SquareEvens(mylist):\n",
        "  res=[]\n",
        "  for x in mylist:\n",
        "    if x%2==0:\n",
        "      res.append(x**2)\n",
        "  return (res)\n",
        "SquareEvens(lst)"
      ]
    }
  ]
}