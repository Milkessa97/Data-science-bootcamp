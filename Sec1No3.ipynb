{
  "nbformat": 4,
  "nbformat_minor": 0,
  "metadata": {
    "colab": {
      "provenance": [],
      "authorship_tag": "ABX9TyOv/jHcT5bmwQYevKulLDF3",
      "include_colab_link": true
    },
    "kernelspec": {
      "name": "python3",
      "display_name": "Python 3"
    },
    "language_info": {
      "name": "python"
    }
  },
  "cells": [
    {
      "cell_type": "markdown",
      "metadata": {
        "id": "view-in-github",
        "colab_type": "text"
      },
      "source": [
        "<a href=\"https://colab.research.google.com/github/Milkessa97/Data-science-bootcamp/blob/main/Sec1No3.ipynb\" target=\"_parent\"><img src=\"https://colab.research.google.com/assets/colab-badge.svg\" alt=\"Open In Colab\"/></a>"
      ]
    },
    {
      "cell_type": "code",
      "execution_count": null,
      "metadata": {
        "id": "gDzYrBNhF5aF"
      },
      "outputs": [],
      "source": [
        "[1,2,3,4]"
      ]
    },
    {
      "cell_type": "markdown",
      "source": [
        "The given code on the 3rd questions shows that the list x was directly assigned to y. In python, since the variable x is holding the reference to the array, y will also hold the same reference to the same array.(Not a new one!)\n",
        "Therefore the output will be as above."
      ],
      "metadata": {
        "id": "zTN6JJkvoN9o"
      }
    }
  ]
}