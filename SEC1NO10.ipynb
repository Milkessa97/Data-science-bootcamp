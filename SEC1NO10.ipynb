{
  "nbformat": 4,
  "nbformat_minor": 0,
  "metadata": {
    "colab": {
      "provenance": [],
      "authorship_tag": "ABX9TyOEhuuHBktlkD+zY1DiLPm5",
      "include_colab_link": true
    },
    "kernelspec": {
      "name": "python3",
      "display_name": "Python 3"
    },
    "language_info": {
      "name": "python"
    }
  },
  "cells": [
    {
      "cell_type": "markdown",
      "metadata": {
        "id": "view-in-github",
        "colab_type": "text"
      },
      "source": [
        "<a href=\"https://colab.research.google.com/github/Milkessa97/Data-science-bootcamp/blob/main/SEC1NO10.ipynb\" target=\"_parent\"><img src=\"https://colab.research.google.com/assets/colab-badge.svg\" alt=\"Open In Colab\"/></a>"
      ]
    },
    {
      "cell_type": "code",
      "execution_count": null,
      "metadata": {
        "id": "2_3YWP7TC4PT"
      },
      "outputs": [],
      "source": [
        "highSTD=[2,45,143,3,24,354]\n",
        "lowSTD=[2,3,1,4,2]"
      ]
    },
    {
      "cell_type": "markdown",
      "source": [
        "A data is said to have a high standard deviation if the values of the data are highly spread out."
      ],
      "metadata": {
        "id": "fnnzYWUIDGHL"
      }
    }
  ]
}