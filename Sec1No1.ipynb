{
  "nbformat": 4,
  "nbformat_minor": 0,
  "metadata": {
    "colab": {
      "provenance": [],
      "authorship_tag": "ABX9TyMZYo9T2aLx+dMK8XOP+MjX",
      "include_colab_link": true
    },
    "kernelspec": {
      "name": "python3",
      "display_name": "Python 3"
    },
    "language_info": {
      "name": "python"
    }
  },
  "cells": [
    {
      "cell_type": "markdown",
      "metadata": {
        "id": "view-in-github",
        "colab_type": "text"
      },
      "source": [
        "<a href=\"https://colab.research.google.com/github/Milkessa97/Data-science-bootcamp/blob/main/Sec1No1.ipynb\" target=\"_parent\"><img src=\"https://colab.research.google.com/assets/colab-badge.svg\" alt=\"Open In Colab\"/></a>"
      ]
    },
    {
      "cell_type": "code",
      "execution_count": null,
      "metadata": {
        "id": "0G4Yw6f9BrFn"
      },
      "outputs": [],
      "source": [
        "#Example:\n",
        "lst=[2,4,\"miki\"]\n",
        "#Example:\n",
        "dct={\"name\":\"miki\",\"age\":20}\n",
        "#Example:\n",
        "import numpy\n",
        "arr=numpy.array([1,2,3])"
      ]
    },
    {
      "cell_type": "markdown",
      "source": [
        "An array is a sequential and mutable collections of different data types.\n",
        "A dictionary is a set of key value pairs.\n",
        "A numpy array is a special type of multi-dimensional array from a library called numpy.(Usually used for fast computation)"
      ],
      "metadata": {
        "id": "yJGDyWXInvy8"
      }
    },
    {
      "cell_type": "markdown",
      "source": [],
      "metadata": {
        "id": "0UwnY9SWnt-j"
      }
    }
  ]
}