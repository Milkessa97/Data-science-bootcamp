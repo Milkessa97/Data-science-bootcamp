{
  "nbformat": 4,
  "nbformat_minor": 0,
  "metadata": {
    "colab": {
      "provenance": [],
      "authorship_tag": "ABX9TyM8byRoyRcQKxMknxBmHzZp",
      "include_colab_link": true
    },
    "kernelspec": {
      "name": "python3",
      "display_name": "Python 3"
    },
    "language_info": {
      "name": "python"
    }
  },
  "cells": [
    {
      "cell_type": "markdown",
      "metadata": {
        "id": "view-in-github",
        "colab_type": "text"
      },
      "source": [
        "<a href=\"https://colab.research.google.com/github/Milkessa97/Data-science-bootcamp/blob/main/Sec1No4.ipynb\" target=\"_parent\"><img src=\"https://colab.research.google.com/assets/colab-badge.svg\" alt=\"Open In Colab\"/></a>"
      ]
    },
    {
      "cell_type": "code",
      "execution_count": null,
      "metadata": {
        "id": "9ciOj2MJwW0G"
      },
      "outputs": [],
      "source": []
    },
    {
      "cell_type": "markdown",
      "source": [
        "The .shape method returns the dimensions of our dataframe as tuple of number of rows and columns.\n",
        "The .describe method prints out the statistical data of our dataframe(such as mean,percentile,maximum,etc)"
      ],
      "metadata": {
        "id": "QIwzJRSPwYKp"
      }
    }
  ]
}