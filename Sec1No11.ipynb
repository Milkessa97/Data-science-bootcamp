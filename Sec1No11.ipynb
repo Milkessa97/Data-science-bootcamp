{
  "nbformat": 4,
  "nbformat_minor": 0,
  "metadata": {
    "colab": {
      "provenance": [],
      "authorship_tag": "ABX9TyOeYNjXTt9SC7UCM3Cu7OED",
      "include_colab_link": true
    },
    "kernelspec": {
      "name": "python3",
      "display_name": "Python 3"
    },
    "language_info": {
      "name": "python"
    }
  },
  "cells": [
    {
      "cell_type": "markdown",
      "metadata": {
        "id": "view-in-github",
        "colab_type": "text"
      },
      "source": [
        "<a href=\"https://colab.research.google.com/github/Milkessa97/Data-science-bootcamp/blob/main/Sec1No11.ipynb\" target=\"_parent\"><img src=\"https://colab.research.google.com/assets/colab-badge.svg\" alt=\"Open In Colab\"/></a>"
      ]
    },
    {
      "cell_type": "code",
      "execution_count": null,
      "metadata": {
        "id": "MljsxSOCIqC-"
      },
      "outputs": [],
      "source": []
    },
    {
      "cell_type": "markdown",
      "source": [
        "A serious might be taken in cases such as disease predictions.If there is a missing data, there will be a false positive outcome for a healthy person or a false negative outcome for a person who is actually ill.\n",
        "Another example is forensic datas of citizens. Where we won't be able to detect any biometrics data of a person whose data is lost."
      ],
      "metadata": {
        "id": "hZ0yRHPeIrGp"
      }
    }
  ]
}